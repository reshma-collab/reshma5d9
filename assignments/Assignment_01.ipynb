{
  "cells": [
    {
      "cell_type": "markdown",
      "metadata": {
        "id": "view-in-github",
        "colab_type": "text"
      },
      "source": [
        "<a href=\"https://colab.research.google.com/github/reshma-collab/reshma5d9/blob/main/assignments/Assignment_01.ipynb\" target=\"_parent\"><img src=\"https://colab.research.google.com/assets/colab-badge.svg\" alt=\"Open In Colab\"/></a>"
      ]
    },
    {
      "cell_type": "markdown",
      "id": "548b84c2-e24f-4a12-98bb-5e7bd5ec86bd",
      "metadata": {
        "id": "548b84c2-e24f-4a12-98bb-5e7bd5ec86bd"
      },
      "source": [
        "# Python"
      ]
    },
    {
      "cell_type": "markdown",
      "id": "99fbfc45-ba9e-4766-8219-f5dbcacc8481",
      "metadata": {
        "id": "99fbfc45-ba9e-4766-8219-f5dbcacc8481"
      },
      "source": [
        "<a target=\"_blank\" href=\"https://colab.research.google.com/github/kgsb24/rishi-college/blob/main/assignments/Assignment_01.ipynb\">\n",
        "  <img src=\"https://colab.research.google.com/assets/colab-badge.svg\" alt=\"Open In Colab\"/>\n",
        "</a>"
      ]
    },
    {
      "cell_type": "markdown",
      "id": "07a1f870-f905-4703-8b65-12e83172133a",
      "metadata": {
        "id": "07a1f870-f905-4703-8b65-12e83172133a"
      },
      "source": [
        "## Basic Python Fundamentals"
      ]
    },
    {
      "cell_type": "code",
      "execution_count": null,
      "id": "502e1d87-2fdd-4588-a330-2af21268215e",
      "metadata": {
        "id": "502e1d87-2fdd-4588-a330-2af21268215e",
        "outputId": "0c405161-1d45-4d84-f726-7ca47faedd3c",
        "colab": {
          "base_uri": "https://localhost:8080/"
        }
      },
      "outputs": [
        {
          "output_type": "stream",
          "name": "stdout",
          "text": [
            "The type of x is: <class 'int'>\n"
          ]
        }
      ],
      "source": [
        "# Write a Python program to declare a variable x with the value 10 and print its type.\n",
        "\n",
        "x = 1\n",
        "print(\"The type of x is:\", type(x))\n"
      ]
    },
    {
      "cell_type": "code",
      "execution_count": null,
      "id": "dae77579-4b7d-4f06-96e0-7bdfe43860d7",
      "metadata": {
        "id": "dae77579-4b7d-4f06-96e0-7bdfe43860d7",
        "outputId": "f893cf78-28c5-4416-8c1b-26407de931d1",
        "colab": {
          "base_uri": "https://localhost:8080/"
        }
      },
      "outputs": [
        {
          "output_type": "stream",
          "name": "stdout",
          "text": [
            "The sum of a, b, and c is: 30\n"
          ]
        }
      ],
      "source": [
        "# Write a Python program to declare three variables a = 5, b = 10, and c = 15, and print their sum.\n",
        "a = 5\n",
        "b = 10\n",
        "c = 15\n",
        "sum_of_variables = a + b + c\n",
        "print(\"The sum of a, b, and c is:\", sum_of_variables)\n"
      ]
    },
    {
      "cell_type": "code",
      "execution_count": 6,
      "id": "c32867b2-a615-426a-89ae-bd2793b6a4dc",
      "metadata": {
        "id": "c32867b2-a615-426a-89ae-bd2793b6a4dc",
        "outputId": "def549f6-dde1-4a96-fb41-affae42bb289",
        "colab": {
          "base_uri": "https://localhost:8080/"
        }
      },
      "outputs": [
        {
          "output_type": "stream",
          "name": "stdout",
          "text": [
            "The type of a is: <class 'int'>\n",
            "The type of b is: <class 'float'>\n",
            "The type of c is: <class 'str'>\n",
            "The type of d is: <class 'bool'>\n"
          ]
        }
      ],
      "source": [
        "# Write a Python program that checks and prints the type of a variable (e.g., int, float, str, etc.).\n",
        "a = 1\n",
        "b = 3.0\n",
        "c ='rai'\n",
        "d= False\n",
        "print('The type of a is:',type(a))\n",
        "print('The type of b is:',type(b))\n",
        "print('The type of c is:',type(c))\n",
        "print('The type of d is:',type(d))\n",
        "\n",
        "\n",
        "\n"
      ]
    },
    {
      "cell_type": "code",
      "execution_count": 7,
      "id": "8b233e41-9d44-4869-9ead-afb3ff1c0b67",
      "metadata": {
        "id": "8b233e41-9d44-4869-9ead-afb3ff1c0b67",
        "outputId": "e07c0d26-012d-4b6c-a6bb-a250b78774a8",
        "colab": {
          "base_uri": "https://localhost:8080/"
        }
      },
      "outputs": [
        {
          "output_type": "stream",
          "name": "stdout",
          "text": [
            "enter the num13\n",
            "enter the num21\n",
            "the addition is: 4.0\n",
            "the subtraction is: 2.0\n",
            "the multiplication is: 3.0\n",
            "the division is: 3.0\n"
          ]
        }
      ],
      "source": [
        "# Write a Python program to perform addition, subtraction, multiplication, and division on two numbers. (User input is required for the numbers)\n",
        "num1=float(input(\"enter the num1\"))\n",
        "num2=float(input(\"enter the num2\"))\n",
        "addition=num1+num2\n",
        "subtraction=num1-num2\n",
        "multiplication=num1*num2\n",
        "division=num1/num2\n",
        "print(f\"the addition is:\",addition)\n",
        "print(f\"the subtraction is:\",subtraction)\n",
        "print(f\"the multiplication is:\",multiplication)\n",
        "print(f\"the division is:\",division)\n"
      ]
    },
    {
      "cell_type": "code",
      "execution_count": 8,
      "id": "629435bd-6bfa-44de-91d9-3b2937713257",
      "metadata": {
        "id": "629435bd-6bfa-44de-91d9-3b2937713257",
        "outputId": "66d57b4a-773e-4510-efde-e3669b8d5276",
        "colab": {
          "base_uri": "https://localhost:8080/"
        }
      },
      "outputs": [
        {
          "output_type": "stream",
          "name": "stdout",
          "text": [
            "Original string: 123\n",
            "Converted to integer: 123\n",
            "Converted to float: 123.0\n"
          ]
        }
      ],
      "source": [
        "# Write a Python program to convert a string \"123\" to an integer and a float and print the results.\n",
        "# Original string\n",
        "string_value = \"123\"\n",
        "integer_value = int(string_value)\n",
        "float_value = float(string_value)\n",
        "print(f\"Original string: {string_value}\")\n",
        "print(f\"Converted to integer: {integer_value}\")\n",
        "print(f\"Converted to float: {float_value}\")\n",
        "\n"
      ]
    },
    {
      "cell_type": "code",
      "execution_count": 9,
      "id": "599421f1-51c1-4653-9d78-b007fcc6861b",
      "metadata": {
        "id": "599421f1-51c1-4653-9d78-b007fcc6861b",
        "outputId": "d06553e4-d6fc-4ee9-ec97-d6c27148d8d8",
        "colab": {
          "base_uri": "https://localhost:8080/"
        }
      },
      "outputs": [
        {
          "output_type": "stream",
          "name": "stdout",
          "text": [
            "Enter a string: resh\n",
            "The first character of the string is: r\n"
          ]
        }
      ],
      "source": [
        "# Write a Python program to print the first character of a given string. (User input for the string)\n",
        "\n",
        "user_string = input(\"Enter a string: \")\n",
        "if len(user_string) > 0:\n",
        "    print(f\"The first character of the string is: {user_string[0]}\")\n",
        "else:\n",
        "    print(\"The string is empty. Please enter a valid string.\")\n"
      ]
    },
    {
      "cell_type": "code",
      "execution_count": 14,
      "id": "54ee0a5d-415f-40b6-b82e-c0de12a002f9",
      "metadata": {
        "id": "54ee0a5d-415f-40b6-b82e-c0de12a002f9",
        "outputId": "d3603914-ec31-4d20-e614-072b511b5ae8",
        "colab": {
          "base_uri": "https://localhost:8080/"
        }
      },
      "outputs": [
        {
          "output_type": "stream",
          "name": "stdout",
          "text": [
            "Enter a string: r\n",
            "The length of the string is: 1\n"
          ]
        }
      ],
      "source": [
        "# Write a Python program to print the length of a string. (User input for the strin\n",
        "user_string = input(\"Enter a string: \")\n",
        "print(f\"The length of the string is: {len(user_string)}\")\n"
      ]
    },
    {
      "cell_type": "code",
      "execution_count": null,
      "id": "65f44c33-618e-4337-a9d1-9de888c93a0a",
      "metadata": {
        "id": "65f44c33-618e-4337-a9d1-9de888c93a0a"
      },
      "outputs": [],
      "source": [
        "# Write a Python program to check if a given string contains only alphabets.\n",
        "\n",
        "user_string = input(\"Enter a string: \")\n",
        "if user_string.isalpha():\n",
        "    print(\"The string contains only alphabets.\")\n",
        "else:\n",
        "    print(\"The string contains characters other than alphabets.\")\n"
      ]
    },
    {
      "cell_type": "code",
      "execution_count": 17,
      "id": "b1c5d364-eccf-473a-b03a-ab15f3e917cf",
      "metadata": {
        "id": "b1c5d364-eccf-473a-b03a-ab15f3e917cf",
        "outputId": "f928b9d2-bb03-4dfc-8ad9-9125ae4c8964",
        "colab": {
          "base_uri": "https://localhost:8080/"
        }
      },
      "outputs": [
        {
          "output_type": "stream",
          "name": "stdout",
          "text": [
            "Enter a string: resabc\n",
            "The substring 'abc' is found at index: 3\n"
          ]
        }
      ],
      "source": [
        "# Write a Python program to find the index of a substring \"abc\" in a string. (User input for the string)\n",
        "user_string = input(\"Enter a string: \")\n",
        "substring = \"abc\"\n",
        "try:\n",
        "    index = user_string.index(substring)\n",
        "    print(f\"The substring '{substring}' is found at index: {index}\")\n",
        "except ValueError:\n",
        "    print(f\"The substring '{substring}' is not found in the string.\")\n",
        "\n",
        "\n"
      ]
    },
    {
      "cell_type": "code",
      "execution_count": 16,
      "id": "37463128-2b51-4860-b6bf-40d3c03fbe84",
      "metadata": {
        "id": "37463128-2b51-4860-b6bf-40d3c03fbe84",
        "outputId": "53133ff6-4ebd-48af-b449-a8c4bb05317d",
        "colab": {
          "base_uri": "https://localhost:8080/"
        }
      },
      "outputs": [
        {
          "output_type": "stream",
          "name": "stdout",
          "text": [
            "Enter the first string: re\n",
            "Enter the second string: sh\n",
            "The concatenated string is: resh\n"
          ]
        }
      ],
      "source": [
        "# Write a Python program to concatenate two strings. (User input for the strings)\n",
        "string1 = input(\"Enter the first string: \")\n",
        "string2 = input(\"Enter the second string: \")\n",
        "result = string1 + string2\n",
        "print(\"The concatenated string is:\", result)\n"
      ]
    },
    {
      "cell_type": "code",
      "execution_count": 18,
      "id": "cc92afd9-ba4b-4934-a79d-f26825b4efc2",
      "metadata": {
        "id": "cc92afd9-ba4b-4934-a79d-f26825b4efc2",
        "outputId": "f854d866-d087-4ee6-992b-061d38344886",
        "colab": {
          "base_uri": "https://localhost:8080/"
        }
      },
      "outputs": [
        {
          "output_type": "stream",
          "name": "stdout",
          "text": [
            "Enter a string: re\n",
            "Uppercase: RE\n",
            "Lowercase: re\n"
          ]
        }
      ],
      "source": [
        "# Write a Python program to convert a string to both uppercase and lowercase. (User input for the string)\n",
        "\n",
        "user_string = input(\"Enter a string: \")\n",
        "uppercase_string = user_string.upper()\n",
        "lowercase_string = user_string.lower()\n",
        "print(f\"Uppercase: {uppercase_string}\")\n",
        "print(f\"Lowercase: {lowercase_string}\")\n"
      ]
    },
    {
      "cell_type": "code",
      "execution_count": 19,
      "id": "f24f79b3-da8b-44bf-8310-c68442e86e3e",
      "metadata": {
        "id": "f24f79b3-da8b-44bf-8310-c68442e86e3e",
        "outputId": "9acf4349-dd64-4990-dd2f-9982318bea61",
        "colab": {
          "base_uri": "https://localhost:8080/"
        }
      },
      "outputs": [
        {
          "output_type": "stream",
          "name": "stdout",
          "text": [
            "Enter a string: reaer\n",
            "Enter the character to count: r\n",
            "The character 'r' appears 2 time(s) in the string.\n"
          ]
        }
      ],
      "source": [
        "# Write a Python program to count how many times a particular character appears in a string. (User input for string and character)\n",
        "user_string = input(\"Enter a string: \")\n",
        "character = input(\"Enter the character to count: \")\n",
        "if len(character) != 1:\n",
        "    print(\"Please enter a single character.\")\n",
        "else:\n",
        "    count = user_string.count(character)\n",
        "    print(f\"The character '{character}' appears {count} time(s) in the string.\")\n"
      ]
    },
    {
      "cell_type": "code",
      "execution_count": 20,
      "id": "f2e8f25c-5c34-44eb-b749-7cc4c100b9a8",
      "metadata": {
        "id": "f2e8f25c-5c34-44eb-b749-7cc4c100b9a8",
        "outputId": "43b72521-378b-42ae-8d19-b477bcf8e2d2",
        "colab": {
          "base_uri": "https://localhost:8080/"
        }
      },
      "outputs": [
        {
          "output_type": "stream",
          "name": "stdout",
          "text": [
            "Enter your name: res\n",
            "Hello, res, Good Morning!\n"
          ]
        }
      ],
      "source": [
        "# Write a Python program to take the user's name as input and print a personalized greeting. (Hello, username, Good Morning)\n",
        "user_name = input(\"Enter your name: \")\n",
        "print(f\"Hello, {user_name}, Good Morning!\")\n"
      ]
    },
    {
      "cell_type": "code",
      "execution_count": 21,
      "id": "189296cf-77e6-4f48-b010-77458da5bc9d",
      "metadata": {
        "id": "189296cf-77e6-4f48-b010-77458da5bc9d",
        "outputId": "4bcd8e7b-b152-4011-dd7c-c90f5520f2e9",
        "colab": {
          "base_uri": "https://localhost:8080/"
        }
      },
      "outputs": [
        {
          "output_type": "stream",
          "name": "stdout",
          "text": [
            "enter the num13\n",
            "enter the num24\n",
            "the addition is: 7.0\n"
          ]
        }
      ],
      "source": [
        "# Write a Python program to take two numbers as input and print their sum.\n",
        "num1=float(input(\"enter the num1\"))\n",
        "num2=float(input(\"enter the num2\"))\n",
        "addition=num1+num2\n",
        "print(f\"the addition is:\",addition)\n"
      ]
    },
    {
      "cell_type": "code",
      "execution_count": 22,
      "id": "0563b26c-0218-47b8-9035-98beb73b0931",
      "metadata": {
        "id": "0563b26c-0218-47b8-9035-98beb73b0931",
        "outputId": "e484e33f-0a11-43be-c8f7-f273efd1fc4e",
        "colab": {
          "base_uri": "https://localhost:8080/"
        }
      },
      "outputs": [
        {
          "output_type": "stream",
          "name": "stdout",
          "text": [
            "Enter your name: res\n",
            "Enter your age: 3\n",
            "Hello, res! You are 3 years old.\n"
          ]
        }
      ],
      "source": [
        "# Write a Python program to format and display a string containing the user's name and age. (User input required)\n",
        "name = input(\"Enter your name: \")\n",
        "age = int(input(\"Enter your age: \"))\n",
        "print(f\"Hello, {name}! You are {age} years old.\")\n"
      ]
    },
    {
      "cell_type": "markdown",
      "source": [],
      "metadata": {
        "id": "rYzjWRjAVCRT"
      },
      "id": "rYzjWRjAVCRT"
    },
    {
      "cell_type": "markdown",
      "id": "0bde6e5a-0415-4b06-8b5a-95fa252b34eb",
      "metadata": {
        "id": "0bde6e5a-0415-4b06-8b5a-95fa252b34eb"
      },
      "source": [
        "## Control Structures (Conditionals and Loops)"
      ]
    },
    {
      "cell_type": "code",
      "execution_count": null,
      "id": "aefff5f3-b61e-43e6-a458-7367ef1af9de",
      "metadata": {
        "colab": {
          "base_uri": "https://localhost:8080/"
        },
        "id": "aefff5f3-b61e-43e6-a458-7367ef1af9de",
        "outputId": "cb0a07a1-5141-45e0-c916-5ccc4b1d5a3c"
      },
      "outputs": [
        {
          "output_type": "stream",
          "name": "stdout",
          "text": [
            "Enter a number: 4\n",
            "The number is positive.\n"
          ]
        }
      ],
      "source": [
        "# Write a Python program that takes a number as input and checks whether it is positive, negative, or zero.\n",
        "\n",
        "number = float(input(\"Enter a number: \"))\n",
        "if number > 0:\n",
        "    print(\"The number is positive.\")\n",
        "elif number < 0:\n",
        "    print(\"The number is negative.\")\n",
        "else:\n",
        "    print(\"The number is zero.\")\n",
        "\n"
      ]
    },
    {
      "cell_type": "code",
      "execution_count": null,
      "id": "4dc6d14b-6d22-4348-859a-2a03f9be65f7",
      "metadata": {
        "colab": {
          "base_uri": "https://localhost:8080/"
        },
        "id": "4dc6d14b-6d22-4348-859a-2a03f9be65f7",
        "outputId": "61e724de-de7f-4491-8e3a-9f97021da218"
      },
      "outputs": [
        {
          "output_type": "stream",
          "name": "stdout",
          "text": [
            "Enter the first number: 5\n",
            "Enter the second number: 6\n",
            "Enter the third number: 15\n",
            "The maximum number is 15.0.\n"
          ]
        }
      ],
      "source": [
        "# Write a Python program to find the maximum of three numbers. (User input for the numbers)\n",
        "\n",
        "num1 = float(input(\"Enter the first number: \"))\n",
        "num2 = float(input(\"Enter the second number: \"))\n",
        "num3 = float(input(\"Enter the third number: \"))\n",
        "if num1 >= num2 and num1 >= num3:\n",
        "    print(f\"The maximum number is {num1}.\")\n",
        "elif num2 >= num1 and num2 >= num3:\n",
        "    print(f\"The maximum number is {num2}.\")\n",
        "else:\n",
        "    print(f\"The maximum number is {num3}.\")\n"
      ]
    },
    {
      "cell_type": "code",
      "execution_count": null,
      "id": "3f6d1f45-eb68-4142-89d6-510046f21879",
      "metadata": {
        "colab": {
          "base_uri": "https://localhost:8080/"
        },
        "id": "3f6d1f45-eb68-4142-89d6-510046f21879",
        "outputId": "f6090f45-3d33-4cdf-ac56-9b4e2bf36a31"
      },
      "outputs": [
        {
          "output_type": "stream",
          "name": "stdout",
          "text": [
            "Enter a year: 35\n",
            "35 is not a leap year.\n"
          ]
        }
      ],
      "source": [
        "# Write a Python program to check if a year is a leap year. (User input for the year)\n",
        "\n",
        "year = int(input(\"Enter a year: \"))\n",
        "if (year % 4 == 0 and year % 100 != 0) or (year % 400 == 0):\n",
        "    print(f\"{year} is a leap year.\")\n",
        "else:\n",
        "    print(f\"{year} is not a leap year.\")\n"
      ]
    },
    {
      "cell_type": "code",
      "execution_count": null,
      "id": "b6a07105-6fa5-4f70-b64b-ebd66afc3c2b",
      "metadata": {
        "colab": {
          "base_uri": "https://localhost:8080/"
        },
        "id": "b6a07105-6fa5-4f70-b64b-ebd66afc3c2b",
        "outputId": "7ebfa575-02af-480a-f612-161f85ba5028"
      },
      "outputs": [
        {
          "output_type": "stream",
          "name": "stdout",
          "text": [
            "Enter a number: 6\n",
            "6 is not divisible by both 3 and 5.\n"
          ]
        }
      ],
      "source": [
        "# Write a Python program to check if a number is divisible by both 3 and 5. (User input for the number)\n",
        "number = int(input(\"Enter a number: \"))\n",
        "if number % 3 == 0 and number % 5 == 0:\n",
        "    print(f\"{number} is divisible by both 3 and 5.\")\n",
        "else:\n",
        "    print(f\"{number} is not divisible by both 3 and 5.\")"
      ]
    },
    {
      "cell_type": "code",
      "execution_count": null,
      "id": "d10c9005-b85d-42f9-81d0-65d149415888",
      "metadata": {
        "colab": {
          "base_uri": "https://localhost:8080/"
        },
        "id": "d10c9005-b85d-42f9-81d0-65d149415888",
        "outputId": "762c22a5-386e-44dc-a68d-0255052451ab"
      },
      "outputs": [
        {
          "output_type": "stream",
          "name": "stdout",
          "text": [
            "Enter a string: mom\n",
            "'mom' is a palindrome.\n"
          ]
        }
      ],
      "source": [
        "# Write a Python program to check if a string is a palindrome. (User input for the string)\n",
        "\n",
        "string = input(\"Enter a string: \")\n",
        "cleaned_string = string.replace(\" \", \"\").lower()\n",
        "if cleaned_string == cleaned_string[::-1]:\n",
        "    print(f\"'{string}' is a palindrome.\")\n",
        "else:\n",
        "    print(f\"'{string}' is not a palindrome.\")\n",
        "\n"
      ]
    },
    {
      "cell_type": "code",
      "execution_count": null,
      "id": "82d76cdf-efc6-45c6-ab09-9d1f17b3d857",
      "metadata": {
        "colab": {
          "base_uri": "https://localhost:8080/"
        },
        "id": "82d76cdf-efc6-45c6-ab09-9d1f17b3d857",
        "outputId": "dcfe29a1-4bbf-4d07-941c-30187991b7c0"
      },
      "outputs": [
        {
          "output_type": "stream",
          "name": "stdout",
          "text": [
            "1\n",
            "2\n",
            "3\n",
            "4\n",
            "5\n",
            "6\n",
            "7\n",
            "8\n",
            "9\n",
            "10\n"
          ]
        }
      ],
      "source": [
        "#Write a Python program to print numbers from 1 to 10 using a for loop.\n",
        "for i in range(1, 11):\n",
        "    print(i)\n"
      ]
    },
    {
      "cell_type": "code",
      "execution_count": null,
      "id": "d09e8994-e984-4c12-ab1e-1bfc6938a389",
      "metadata": {
        "colab": {
          "base_uri": "https://localhost:8080/"
        },
        "id": "d09e8994-e984-4c12-ab1e-1bfc6938a389",
        "outputId": "035b0e1a-8733-423f-e55a-6b9de4a9b5a6"
      },
      "outputs": [
        {
          "output_type": "stream",
          "name": "stdout",
          "text": [
            "2\n",
            "4\n",
            "6\n",
            "8\n",
            "10\n",
            "12\n",
            "14\n",
            "16\n",
            "18\n",
            "20\n"
          ]
        }
      ],
      "source": [
        "# Write a Python program to print all even numbers from 1 to 20 using a while loop.\n",
        "num = 1\n",
        "while num <= 20:\n",
        "    if num % 2 == 0:\n",
        "        print(num)\n",
        "    num += 1\n"
      ]
    },
    {
      "cell_type": "code",
      "execution_count": null,
      "id": "c09ca878-167e-49ca-97f0-247a43c9b472",
      "metadata": {
        "colab": {
          "base_uri": "https://localhost:8080/"
        },
        "id": "c09ca878-167e-49ca-97f0-247a43c9b472",
        "outputId": "2e0b9d1b-ac2d-439c-cdbd-8ee44a1cb633"
      },
      "outputs": [
        {
          "output_type": "stream",
          "name": "stdout",
          "text": [
            "Enter a number to print its multiplication table: 3\n",
            "3 x 1 = 3\n",
            "3 x 2 = 6\n",
            "3 x 3 = 9\n",
            "3 x 4 = 12\n",
            "3 x 5 = 15\n",
            "3 x 6 = 18\n",
            "3 x 7 = 21\n",
            "3 x 8 = 24\n",
            "3 x 9 = 27\n",
            "3 x 10 = 30\n"
          ]
        }
      ],
      "source": [
        "# Write a Python program to print the multiplication table of a given number using a for loop. (User input for the number)\n",
        "number = int(input(\"Enter a number to print its multiplication table: \"))\n",
        "for i in range(1, 11):\n",
        "    print(f\"{number} x {i} = {number * i}\")\n"
      ]
    },
    {
      "cell_type": "code",
      "execution_count": null,
      "id": "b72118ab-e62d-4af9-bcec-e1cc6af31b25",
      "metadata": {
        "colab": {
          "base_uri": "https://localhost:8080/"
        },
        "id": "b72118ab-e62d-4af9-bcec-e1cc6af31b25",
        "outputId": "9b4afe3f-c530-437a-e824-4bdcf343e6ce"
      },
      "outputs": [
        {
          "output_type": "stream",
          "name": "stdout",
          "text": [
            "Enter a number (n): 4\n",
            "The sum of all numbers from 1 to 4 is: 10\n"
          ]
        }
      ],
      "source": [
        "# Write a Python program to calculate the sum of all numbers from 1 to n using a while loop. (User input for n)\n",
        "\n",
        "n = int(input(\"Enter a number (n): \"))\n",
        "sum_of_numbers = 0\n",
        "i = 1\n",
        "while i <= n:\n",
        "    sum_of_numbers += i\n",
        "    i += 1\n",
        "print(f\"The sum of all numbers from 1 to {n} is: {sum_of_numbers}\")\n"
      ]
    },
    {
      "cell_type": "code",
      "execution_count": null,
      "id": "ae93621f-11a2-40b7-97bc-3002f03ac36a",
      "metadata": {
        "colab": {
          "base_uri": "https://localhost:8080/"
        },
        "id": "ae93621f-11a2-40b7-97bc-3002f03ac36a",
        "outputId": "b38fd652-9cdc-4762-9e5f-0c48dc0ae511"
      },
      "outputs": [
        {
          "output_type": "stream",
          "name": "stdout",
          "text": [
            "Enter a number to calculate its factorial: 5\n",
            "The factorial of 5 is: 120\n"
          ]
        }
      ],
      "source": [
        "# Write a Python program to calculate the factorial of a number using a while loop. (User input for the number)\n",
        "\n",
        "number = int(input(\"Enter a number to calculate its factorial: \"))\n",
        "factorial = 1\n",
        "i = 1\n",
        "while i <= number:\n",
        "    factorial *= i\n",
        "    i += 1\n",
        "print(f\"The factorial of {number} is: {factorial}\")\n"
      ]
    },
    {
      "cell_type": "code",
      "execution_count": null,
      "id": "68467ccc-d696-4ef1-84c4-164c9d87f755",
      "metadata": {
        "colab": {
          "base_uri": "https://localhost:8080/"
        },
        "id": "68467ccc-d696-4ef1-84c4-164c9d87f755",
        "outputId": "e46f8176-74a5-463a-fdc8-484486db4663"
      },
      "outputs": [
        {
          "output_type": "stream",
          "name": "stdout",
          "text": [
            "Enter the number of terms in the Fibonacci sequence: 9\n",
            "Fibonacci sequence:\n",
            "0 1 1 2 3 5 8 13 21 "
          ]
        }
      ],
      "source": [
        "# Write a Python program to print the Fibonacci sequence up to n terms. (User input for n)\n",
        "\n",
        "n = int(input(\"Enter the number of terms in the Fibonacci sequence: \"))\n",
        "a, b = 0, 1\n",
        "print(\"Fibonacci sequence:\")\n",
        "for _ in range(n):\n",
        "    print(a, end=\" \")\n",
        "    a, b = b, a + b\n"
      ]
    },
    {
      "cell_type": "markdown",
      "source": [],
      "metadata": {
        "id": "esSBhduVqTqu"
      },
      "id": "esSBhduVqTqu"
    },
    {
      "cell_type": "code",
      "execution_count": null,
      "id": "5bebd1f3-2606-4102-aa55-01cb1650f632",
      "metadata": {
        "colab": {
          "base_uri": "https://localhost:8080/"
        },
        "id": "5bebd1f3-2606-4102-aa55-01cb1650f632",
        "outputId": "9c2e6db9-c4ab-4a1f-95ce-b1441a421b6e"
      },
      "outputs": [
        {
          "output_type": "stream",
          "name": "stdout",
          "text": [
            "Prime numbers from 1 to 100:\n",
            "2 3 5 7 11 13 17 19 23 29 31 37 41 43 47 53 59 61 67 71 73 79 83 89 97 "
          ]
        }
      ],
      "source": [
        "# Write a Python program to find all the prime numbers from 1 to 100.9\n",
        "\n",
        "def is_prime(num):\n",
        "    if num <= 1:\n",
        "        return False\n",
        "    for i in range(2, int(num ** 0.5) + 1):\n",
        "        if num % i == 0:\n",
        "            return False\n",
        "    return True\n",
        "print(\"Prime numbers from 1 to 100:\")\n",
        "for number in range(1, 101):\n",
        "    if is_prime(number):\n",
        "        print(number, end=\" \")\n",
        "\n"
      ]
    },
    {
      "cell_type": "code",
      "execution_count": null,
      "id": "0a3f894e-52ba-4c0b-9158-a70f31f4fd49",
      "metadata": {
        "colab": {
          "base_uri": "https://localhost:8080/"
        },
        "id": "0a3f894e-52ba-4c0b-9158-a70f31f4fd49",
        "outputId": "35be6b21-8370-4f3d-b712-0068946f59ca"
      },
      "outputs": [
        {
          "output_type": "stream",
          "name": "stdout",
          "text": [
            "Checking number: 10\n",
            "Checking number: 25\n",
            "Checking number: 40\n",
            "Found a number greater than 50: 55\n"
          ]
        }
      ],
      "source": [
        "# Write a Python program that breaks out of a loop when a specific condition is met (e.g., when a number greater than 50 is found).\n",
        "\n",
        "numbers = [10, 25, 40, 55, 30, 60, 45]\n",
        "for num in numbers:\n",
        "    if num > 50:\n",
        "        print(f\"Found a number greater than 50: {num}\")\n",
        "        break\n",
        "    else:\n",
        "        print(f\"Checking number: {num}\")\n"
      ]
    },
    {
      "cell_type": "code",
      "execution_count": null,
      "id": "499b91d0-1f1b-494f-af2b-8cc3a06d90ed",
      "metadata": {
        "colab": {
          "base_uri": "https://localhost:8080/"
        },
        "id": "499b91d0-1f1b-494f-af2b-8cc3a06d90ed",
        "outputId": "bfe3b1b4-9946-432d-d5ce-f4204a2fcbcd"
      },
      "outputs": [
        {
          "output_type": "stream",
          "name": "stdout",
          "text": [
            "1\n",
            "3\n",
            "5\n",
            "7\n",
            "9\n",
            "11\n",
            "13\n",
            "15\n",
            "17\n",
            "19\n"
          ]
        }
      ],
      "source": [
        "# Write a Python program to skip even numbers while printing numbers from 1 to 20 using a for loop.\n",
        "for num in range(1, 21):\n",
        "    if num % 2 == 0:\n",
        "        continue  # Skip even numbers\n",
        "    print(num)\n"
      ]
    },
    {
      "cell_type": "code",
      "execution_count": null,
      "id": "f8ffed70-dfde-4262-a2fd-0d35d69b5fb1",
      "metadata": {
        "colab": {
          "base_uri": "https://localhost:8080/"
        },
        "id": "f8ffed70-dfde-4262-a2fd-0d35d69b5fb1",
        "outputId": "3450a5b2-a846-4bfc-c106-94eb3fe8ec0d"
      },
      "outputs": [
        {
          "output_type": "stream",
          "name": "stdout",
          "text": [
            "Enter a string: 5e4\n",
            "Enter the character to count: 4\n",
            "The character '4' appears 1 times in the string.\n"
          ]
        }
      ],
      "source": [
        "# Write a Python program to count how many times a particular character appears in a string using a for loop. (User input for string and character)\n",
        "\n",
        "string = input(\"Enter a string: \")\n",
        "char_to_count = input(\"Enter the character to count: \")\n",
        "count = 0\n",
        "for char in string:\n",
        "    if char == char_to_count:\n",
        "        count += 1\n",
        "print(f\"The character '{char_to_count}' appears {count} times in the string.\")\n"
      ]
    },
    {
      "cell_type": "code",
      "execution_count": null,
      "id": "01f976ed-4dcd-4842-ae84-d3b5cc42d011",
      "metadata": {
        "colab": {
          "base_uri": "https://localhost:8080/"
        },
        "id": "01f976ed-4dcd-4842-ae84-d3b5cc42d011",
        "outputId": "89db302b-bb9a-4348-fd48-ba5d381c30e7"
      },
      "outputs": [
        {
          "output_type": "stream",
          "name": "stdout",
          "text": [
            "Enter a number: 71\n",
            "The sum of the digits is: 8\n"
          ]
        }
      ],
      "source": [
        "# Write a Python program to calculate the sum of digits of a number. (User input for the number)\n",
        "\n",
        "number = int(input(\"Enter a number: \"))\n",
        "sum_of_digits = 0\n",
        "while number > 0:\n",
        "    digit = number % 10\n",
        "    sum_of_digits += digit\n",
        "    number = number // 10\n",
        "print(f\"The sum of the digits is: {sum_of_digits}\")\n"
      ]
    },
    {
      "cell_type": "markdown",
      "id": "fe644fae-f262-48dd-b7ff-08eb747d297e",
      "metadata": {
        "id": "fe644fae-f262-48dd-b7ff-08eb747d297e"
      },
      "source": [
        "## Data Structures (Lists, Tuples, Sets, Dictionaries)"
      ]
    },
    {
      "cell_type": "code",
      "execution_count": null,
      "id": "a0333c26-8e19-4c71-9722-d32cf8625ef6",
      "metadata": {
        "id": "a0333c26-8e19-4c71-9722-d32cf8625ef6"
      },
      "outputs": [],
      "source": [
        "# Write a Python program to create a list of integers and print the sum of the elements."
      ]
    },
    {
      "cell_type": "code",
      "execution_count": null,
      "id": "5a23046d-80b0-4f8d-a02f-4e3d833c0443",
      "metadata": {
        "id": "5a23046d-80b0-4f8d-a02f-4e3d833c0443"
      },
      "outputs": [],
      "source": [
        "# Write a Python program to find the largest element in a list."
      ]
    },
    {
      "cell_type": "code",
      "execution_count": null,
      "id": "9939c2d2-90fd-4e80-81bc-227c72e60e37",
      "metadata": {
        "id": "9939c2d2-90fd-4e80-81bc-227c72e60e37"
      },
      "outputs": [],
      "source": [
        "# Write a Python program to reverse a list."
      ]
    },
    {
      "cell_type": "code",
      "execution_count": null,
      "id": "aa287db8-057b-48d4-a6d8-18cc53eb7178",
      "metadata": {
        "id": "aa287db8-057b-48d4-a6d8-18cc53eb7178"
      },
      "outputs": [],
      "source": [
        "# Write a Python program to remove all occurrences of a specific element from a list."
      ]
    },
    {
      "cell_type": "code",
      "execution_count": null,
      "id": "da9ba926-0ab5-46e9-b66d-128088c3225b",
      "metadata": {
        "id": "da9ba926-0ab5-46e9-b66d-128088c3225b"
      },
      "outputs": [],
      "source": [
        "# Write a Python program to find the index of an element in a list."
      ]
    },
    {
      "cell_type": "code",
      "execution_count": null,
      "id": "9601b6e4-cb90-4e1f-87b4-38ed37076e0d",
      "metadata": {
        "id": "9601b6e4-cb90-4e1f-87b4-38ed37076e0d"
      },
      "outputs": [],
      "source": [
        "# Write a Python program to find if a specific element exists in a list."
      ]
    },
    {
      "cell_type": "code",
      "execution_count": null,
      "id": "9d8e7311-81de-4da2-826c-c4dcad28ed9f",
      "metadata": {
        "id": "9d8e7311-81de-4da2-826c-c4dcad28ed9f"
      },
      "outputs": [],
      "source": [
        "# Write a Python program to remove duplicates from a list."
      ]
    },
    {
      "cell_type": "code",
      "execution_count": null,
      "id": "09e5121b-97b3-42e4-8025-f28f3470681b",
      "metadata": {
        "id": "09e5121b-97b3-42e4-8025-f28f3470681b"
      },
      "outputs": [],
      "source": [
        "# Write a Python program to count the occurrences of an element in a list."
      ]
    },
    {
      "cell_type": "code",
      "execution_count": null,
      "id": "b774b741-e9a6-45db-8f00-e6d9b734d03a",
      "metadata": {
        "id": "b774b741-e9a6-45db-8f00-e6d9b734d03a"
      },
      "outputs": [],
      "source": [
        "# Write a Python program to get the number of even numbers in a list."
      ]
    },
    {
      "cell_type": "code",
      "execution_count": null,
      "id": "5ce4fd2b-ab16-4b40-9ac2-d19c244d8d96",
      "metadata": {
        "id": "5ce4fd2b-ab16-4b40-9ac2-d19c244d8d96"
      },
      "outputs": [],
      "source": [
        "# Write a Python program to create a tuple and print it."
      ]
    },
    {
      "cell_type": "code",
      "execution_count": null,
      "id": "5c04f880-6e96-4ef4-9f4b-df21aae76ff1",
      "metadata": {
        "id": "5c04f880-6e96-4ef4-9f4b-df21aae76ff1"
      },
      "outputs": [],
      "source": [
        "# Write a Python program to convert a tuple to a list and vice versa."
      ]
    },
    {
      "cell_type": "code",
      "execution_count": null,
      "id": "d5192acc-27f3-456e-9c72-3b276a587bf5",
      "metadata": {
        "id": "d5192acc-27f3-456e-9c72-3b276a587bf5"
      },
      "outputs": [],
      "source": [
        "# Write a Python program to find the maximum and minimum values in a tuple."
      ]
    },
    {
      "cell_type": "code",
      "execution_count": null,
      "id": "43f0a340-9407-4302-af7e-4e63db578bbf",
      "metadata": {
        "id": "43f0a340-9407-4302-af7e-4e63db578bbf"
      },
      "outputs": [],
      "source": [
        "# Write a Python program to unpack a tuple into variables."
      ]
    },
    {
      "cell_type": "code",
      "execution_count": null,
      "id": "46e96e29-2157-4b9f-bb24-0bd973eada9f",
      "metadata": {
        "id": "46e96e29-2157-4b9f-bb24-0bd973eada9f"
      },
      "outputs": [],
      "source": [
        "# Write a Python program to add an element to a set and check if an element exists in the set."
      ]
    },
    {
      "cell_type": "code",
      "execution_count": null,
      "id": "d81a803b-fd80-403e-9ae3-680ef44a3d86",
      "metadata": {
        "id": "d81a803b-fd80-403e-9ae3-680ef44a3d86"
      },
      "outputs": [],
      "source": [
        "# Write a Python program to create a dictionary with keys and values and print it."
      ]
    },
    {
      "cell_type": "code",
      "execution_count": null,
      "id": "7432174b-fe75-4371-b23a-e2c5d62edb15",
      "metadata": {
        "id": "7432174b-fe75-4371-b23a-e2c5d62edb15"
      },
      "outputs": [],
      "source": [
        "# Write a Python program to access a dictionary value using a key."
      ]
    },
    {
      "cell_type": "code",
      "execution_count": null,
      "id": "000b3260-d91f-41f2-9729-4b0124f2c4d2",
      "metadata": {
        "id": "000b3260-d91f-41f2-9729-4b0124f2c4d2"
      },
      "outputs": [],
      "source": [
        "# Write a Python program to check if a key exists in a dictionary."
      ]
    },
    {
      "cell_type": "code",
      "execution_count": null,
      "id": "c4b1a942-818e-42c1-b742-1fabe80fca6d",
      "metadata": {
        "id": "c4b1a942-818e-42c1-b742-1fabe80fca6d"
      },
      "outputs": [],
      "source": [
        "# Write a Python program to merge two dictionaries."
      ]
    },
    {
      "cell_type": "code",
      "execution_count": null,
      "id": "a78f1070-3ff3-436a-8391-153f019f53cd",
      "metadata": {
        "id": "a78f1070-3ff3-436a-8391-153f019f53cd"
      },
      "outputs": [],
      "source": [
        "# Write a Python program to remove a key from a dictionary."
      ]
    },
    {
      "cell_type": "code",
      "execution_count": null,
      "id": "fcba0267-8cc4-4e89-9e78-2d820916c177",
      "metadata": {
        "id": "fcba0267-8cc4-4e89-9e78-2d820916c177"
      },
      "outputs": [],
      "source": [
        "# Write a Python program to get the number of keys in a dictionary."
      ]
    },
    {
      "cell_type": "code",
      "execution_count": null,
      "id": "d4c5fd77-9656-43e5-8fe2-be7dca23eb6d",
      "metadata": {
        "id": "d4c5fd77-9656-43e5-8fe2-be7dca23eb6d"
      },
      "outputs": [],
      "source": [
        "# Write a Python program to find the largest and smallest values in a dictionary."
      ]
    },
    {
      "cell_type": "markdown",
      "id": "7830b8cc-9a90-45a2-8e4a-6f3c2b8b133b",
      "metadata": {
        "id": "7830b8cc-9a90-45a2-8e4a-6f3c2b8b133b"
      },
      "source": [
        "## Functions (User-Defined, Arguments, Keyword Arguments, Return Values)"
      ]
    },
    {
      "cell_type": "code",
      "execution_count": null,
      "id": "06a33fba-c6b1-4989-90f4-b647d1fe1627",
      "metadata": {
        "id": "06a33fba-c6b1-4989-90f4-b647d1fe1627"
      },
      "outputs": [],
      "source": [
        "# Write a Python function that returns the square of a number."
      ]
    },
    {
      "cell_type": "code",
      "execution_count": null,
      "id": "91d90a4a-7329-45db-893b-caed8450ba96",
      "metadata": {
        "id": "91d90a4a-7329-45db-893b-caed8450ba96"
      },
      "outputs": [],
      "source": [
        "# Write a Python function that accepts two parameters and returns their sum."
      ]
    },
    {
      "cell_type": "code",
      "execution_count": null,
      "id": "dec2f9a5-90c5-478b-890b-0a506ecf45d3",
      "metadata": {
        "id": "dec2f9a5-90c5-478b-890b-0a506ecf45d3"
      },
      "outputs": [],
      "source": [
        "# Write a Python function to check if a given number is prime."
      ]
    },
    {
      "cell_type": "code",
      "execution_count": null,
      "id": "56337441-68c3-45df-8733-a34cde0533a5",
      "metadata": {
        "id": "56337441-68c3-45df-8733-a34cde0533a5"
      },
      "outputs": [],
      "source": [
        "# Write a Python function to calculate the factorial of a number using recursion."
      ]
    },
    {
      "cell_type": "code",
      "execution_count": null,
      "id": "84a2d010-e7b2-409b-b1f4-99bf806bb77a",
      "metadata": {
        "id": "84a2d010-e7b2-409b-b1f4-99bf806bb77a"
      },
      "outputs": [],
      "source": [
        "# Write a Python function to calculate the power of a number using recursion."
      ]
    },
    {
      "cell_type": "code",
      "execution_count": null,
      "id": "ec44911e-7820-46cc-96a3-4ca443888837",
      "metadata": {
        "id": "ec44911e-7820-46cc-96a3-4ca443888837"
      },
      "outputs": [],
      "source": [
        "# Write a Python function to accept a list and return its length without using the built-in len() function."
      ]
    },
    {
      "cell_type": "code",
      "execution_count": null,
      "id": "fb4c08e1-34f3-487a-a1c6-77cd60fb4836",
      "metadata": {
        "id": "fb4c08e1-34f3-487a-a1c6-77cd60fb4836"
      },
      "outputs": [],
      "source": [
        "# Write a Python function that accepts both positional and keyword arguments and prints the sum of positional arguments."
      ]
    },
    {
      "cell_type": "code",
      "execution_count": null,
      "id": "f4ffc7a8-f579-461c-b507-4085a0477283",
      "metadata": {
        "id": "f4ffc7a8-f579-461c-b507-4085a0477283"
      },
      "outputs": [],
      "source": [
        "# Write a Python function to find the maximum of two numbers using keyword arguments."
      ]
    },
    {
      "cell_type": "code",
      "execution_count": null,
      "id": "0b00c4af-89e0-43e8-a991-1b684d2ce33f",
      "metadata": {
        "id": "0b00c4af-89e0-43e8-a991-1b684d2ce33f"
      },
      "outputs": [],
      "source": [
        "# Write a Python function that accepts a list of numbers and returns their product."
      ]
    },
    {
      "cell_type": "code",
      "execution_count": null,
      "id": "9cd11703-5b48-44fe-af4e-ea906a2762c9",
      "metadata": {
        "id": "9cd11703-5b48-44fe-af4e-ea906a2762c9"
      },
      "outputs": [],
      "source": [
        "# Write a Python function to check if a number is even or odd using the modulo operator."
      ]
    },
    {
      "cell_type": "code",
      "execution_count": null,
      "id": "afbf262e-daed-40a9-827f-82fa60979610",
      "metadata": {
        "id": "afbf262e-daed-40a9-827f-82fa60979610"
      },
      "outputs": [],
      "source": [
        "# Write a Python program to create a list of squares of numbers from 1 to 10 using list comprehension."
      ]
    },
    {
      "cell_type": "code",
      "execution_count": null,
      "id": "7fff76d8-9ba8-4006-9be6-6f7350092d1c",
      "metadata": {
        "id": "7fff76d8-9ba8-4006-9be6-6f7350092d1c"
      },
      "outputs": [],
      "source": [
        "# Write a Python program to filter out all even numbers from a list using list comprehension."
      ]
    },
    {
      "cell_type": "code",
      "execution_count": null,
      "id": "6ae9b8df-38f9-4fd7-bad1-aa7b07cc9271",
      "metadata": {
        "id": "6ae9b8df-38f9-4fd7-bad1-aa7b07cc9271"
      },
      "outputs": [],
      "source": [
        "# Write a Python program to create a list of strings that are longer than 4 characters from a given list of words using list comprehension."
      ]
    },
    {
      "cell_type": "code",
      "execution_count": null,
      "id": "f492c7d4-6ad3-48ab-9b61-232be02aecee",
      "metadata": {
        "id": "f492c7d4-6ad3-48ab-9b61-232be02aecee"
      },
      "outputs": [],
      "source": [
        "# Write a Python program to create a list of all uppercase letters in a string using list comprehension."
      ]
    },
    {
      "cell_type": "code",
      "execution_count": null,
      "id": "929a7f74-1762-4a2a-be23-bacf67ff4d8b",
      "metadata": {
        "id": "929a7f74-1762-4a2a-be23-bacf67ff4d8b"
      },
      "outputs": [],
      "source": [
        "# Write a Python program to generate the first n Fibonacci numbers using list comprehension."
      ]
    },
    {
      "cell_type": "code",
      "execution_count": null,
      "id": "47188bbc-cf62-47bb-a14e-0582c8b5cdd9",
      "metadata": {
        "id": "47188bbc-cf62-47bb-a14e-0582c8b5cdd9"
      },
      "outputs": [],
      "source": [
        "# Write a Python program to create a dictionary where keys are numbers and values are their squares using dictionary comprehension."
      ]
    },
    {
      "cell_type": "code",
      "execution_count": null,
      "id": "3c4637d3-aa85-4b4c-acf3-953c10818bcb",
      "metadata": {
        "id": "3c4637d3-aa85-4b4c-acf3-953c10818bcb"
      },
      "outputs": [],
      "source": [
        "# Write a Python program to create a dictionary from two lists (one for keys and one for values) using dictionary comprehension."
      ]
    },
    {
      "cell_type": "code",
      "execution_count": null,
      "id": "de817d6f-96e7-4346-839e-1ef0df539b6b",
      "metadata": {
        "id": "de817d6f-96e7-4346-839e-1ef0df539b6b"
      },
      "outputs": [],
      "source": [
        "# Write a Python program to create a dictionary of numbers from 1 to 5 and their cubes using dictionary comprehension."
      ]
    },
    {
      "cell_type": "code",
      "execution_count": null,
      "id": "33695301-057e-49a6-9f80-a2f4e3af60ed",
      "metadata": {
        "id": "33695301-057e-49a6-9f80-a2f4e3af60ed"
      },
      "outputs": [],
      "source": [
        "# Write a Python program to square each element of a list using the map() function."
      ]
    },
    {
      "cell_type": "code",
      "execution_count": null,
      "id": "6d4d17f3-c40f-4944-8656-c6416b600361",
      "metadata": {
        "id": "6d4d17f3-c40f-4944-8656-c6416b600361"
      },
      "outputs": [],
      "source": [
        "# Write a Python program to filter all even numbers from a list using the filter() function."
      ]
    },
    {
      "cell_type": "code",
      "execution_count": null,
      "id": "6634ba1f-9f81-475e-b7c4-422d102afb75",
      "metadata": {
        "id": "6634ba1f-9f81-475e-b7c4-422d102afb75"
      },
      "outputs": [],
      "source": [
        "# Write a Python program to use a lambda function to check if a number is divisible by both 3 and 5."
      ]
    },
    {
      "cell_type": "code",
      "execution_count": null,
      "id": "0aac8430-5d77-439d-9a99-9598fadf989c",
      "metadata": {
        "id": "0aac8430-5d77-439d-9a99-9598fadf989c"
      },
      "outputs": [],
      "source": [
        "# Write a Python program to multiply all numbers in a list by 2 using a lambda function inside map()."
      ]
    },
    {
      "cell_type": "code",
      "execution_count": null,
      "id": "e4cd5ba8-c6ec-4f0d-8787-bf0a4b7a2e22",
      "metadata": {
        "id": "e4cd5ba8-c6ec-4f0d-8787-bf0a4b7a2e22"
      },
      "outputs": [],
      "source": [
        "# Write a Python program to remove all occurrences of a specific element from a list."
      ]
    },
    {
      "cell_type": "markdown",
      "id": "caba77c7-93db-4893-8f48-c7365ed5c585",
      "metadata": {
        "id": "caba77c7-93db-4893-8f48-c7365ed5c585"
      },
      "source": [
        "**Note:**\n",
        "- All assignments must follow [PEP 8 – Style Guide for Python Code](https://peps.python.org/pep-0008/) guidelines.\n",
        "- You can add multiple solutions for each question. Create a new code cell next to the question and add it. Shortcut for creating cell : `Alt + Enter`"
      ]
    }
  ],
  "metadata": {
    "kernelspec": {
      "display_name": "Python 3 (ipykernel)",
      "language": "python",
      "name": "python3"
    },
    "language_info": {
      "codemirror_mode": {
        "name": "ipython",
        "version": 3
      },
      "file_extension": ".py",
      "mimetype": "text/x-python",
      "name": "python",
      "nbconvert_exporter": "python",
      "pygments_lexer": "ipython3",
      "version": "3.12.6"
    },
    "colab": {
      "provenance": [],
      "include_colab_link": true
    }
  },
  "nbformat": 4,
  "nbformat_minor": 5
}